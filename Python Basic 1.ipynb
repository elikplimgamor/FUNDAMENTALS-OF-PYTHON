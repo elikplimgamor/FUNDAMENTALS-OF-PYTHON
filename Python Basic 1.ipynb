{
 "cells": [
  {
   "cell_type": "markdown",
   "id": "f52a7511",
   "metadata": {},
   "source": [
    "#### What is a programming language \n",
    "\n",
    "programming is way of giving instruction to computers \n",
    "\n",
    "Computers speak ones and zeroes hence humans have developed an inbetween languages for ann undeertanding for computers and man \n",
    "\n",
    "The translator for codes is called a compiler or an interpreter "
   ]
  },
  {
   "cell_type": "markdown",
   "id": "631010fd",
   "metadata": {},
   "source": [
    "##### Python Compilers\n",
    "\n",
    "python is written in c to read your python file to run on your manchine \n"
   ]
  },
  {
   "cell_type": "markdown",
   "id": "6f3c1319",
   "metadata": {},
   "source": [
    "## Python Basics \n",
    "\n",
    "the four keys to programming \n",
    "Terms \n",
    "Data types\n",
    "Actions \n",
    "Best Practices \n",
    "\n"
   ]
  },
  {
   "cell_type": "markdown",
   "id": "fe394ead",
   "metadata": {},
   "source": [
    "\n",
    "### Data types "
   ]
  },
  {
   "cell_type": "code",
   "execution_count": 6,
   "id": "4503f0e8",
   "metadata": {},
   "outputs": [
    {
     "data": {
      "text/plain": [
       "dict"
      ]
     },
     "execution_count": 6,
     "metadata": {},
     "output_type": "execute_result"
    }
   ],
   "source": [
    "#Fundamental Datatypes \n",
    "int \n",
    "float \n",
    "bool \n",
    "str\n",
    "list \n",
    "tuple \n",
    "set \n",
    "dict \n",
    "\n",
    "#Datatypes can be custom created \n",
    "\n",
    "#specialized datatypes from modules\n",
    "\n",
    "# None is a datatype which means nothing . It is the absence of value "
   ]
  },
  {
   "cell_type": "markdown",
   "id": "ff6d1a93",
   "metadata": {},
   "source": [
    "\n",
    "#### Number"
   ]
  },
  {
   "cell_type": "code",
   "execution_count": 18,
   "id": "df2c579d",
   "metadata": {},
   "outputs": [
    {
     "name": "stdout",
     "output_type": "stream",
     "text": [
      "6\n",
      "-2\n",
      "8\n",
      "0.5\n"
     ]
    },
    {
     "data": {
      "text/plain": [
       "'0b11'"
      ]
     },
     "execution_count": 18,
     "metadata": {},
     "output_type": "execute_result"
    }
   ],
   "source": [
    "# Intergers , Floats and complex \n",
    "\n",
    "#floats take more space than integers \n",
    "\n",
    "# mathermatical operations \n",
    "print(2+4)\n",
    "print(2-4)\n",
    "print(2*4)\n",
    "print(2/4)\n",
    "\n",
    "\n",
    "# Math Functions (Functions are actions)\n",
    "\n",
    "round(23.4533,2)\n",
    "abs(-7)\n",
    "\n",
    "# Operator Precedence\n",
    "\n",
    "3+5*2*9/5-8\n",
    "\n",
    "# PEDMAS\n",
    "\n",
    "\n",
    "#binary numbers \n",
    "\n",
    "bin(3) # binary numbers \n",
    "\n",
    "\n",
    "\n",
    "\n"
   ]
  },
  {
   "cell_type": "code",
   "execution_count": 19,
   "id": "284e7268",
   "metadata": {},
   "outputs": [],
   "source": [
    "# Variables\n",
    "#Variables are container for storing information\n",
    "\n",
    "#assigning a value is called binding \n",
    "\n",
    "#use snake casing\n",
    "#start with either a letter or an underscore \n",
    "#underscore means a private variable \n",
    "# Give your variables good names . Names you can relate with \n",
    "\n",
    "#Remember that variables are case sensitive "
   ]
  },
  {
   "cell_type": "code",
   "execution_count": 20,
   "id": "c27cb49f",
   "metadata": {},
   "outputs": [],
   "source": [
    "#Augmented assignment operator \n",
    "\n",
    "a = 5\n",
    "a = 5+2\n",
    "a = a + 2\n",
    "\n",
    "#short hand \n",
    "a+=2\n",
    "\n",
    "\n"
   ]
  },
  {
   "cell_type": "markdown",
   "id": "d5d60b4d",
   "metadata": {},
   "source": [
    "#### Strings"
   ]
  },
  {
   "cell_type": "code",
   "execution_count": 21,
   "id": "1765095b",
   "metadata": {},
   "outputs": [],
   "source": [
    "# string are alphabet and symbols except numbers\n",
    "\n",
    "#use \" \" or ' '\n",
    "\n",
    "#use \"\"\"\" \"\"\" or ''' ''' for long strings "
   ]
  },
  {
   "cell_type": "code",
   "execution_count": 22,
   "id": "b8da62a5",
   "metadata": {},
   "outputs": [],
   "source": [
    "hello = \"\"\"\" \n",
    "\n",
    "hello there \n",
    "\n",
    "\"\"\""
   ]
  },
  {
   "cell_type": "code",
   "execution_count": 23,
   "id": "d5859323",
   "metadata": {},
   "outputs": [],
   "source": [
    "# string concatination means adding string together\n",
    " \n",
    "use + to add strings only together \n"
   ]
  },
  {
   "cell_type": "code",
   "execution_count": 24,
   "id": "fd7a3d83",
   "metadata": {},
   "outputs": [
    {
     "name": "stdout",
     "output_type": "stream",
     "text": [
      "Eli  how are you ?\n"
     ]
    }
   ],
   "source": [
    "name = \"Eli \"\n",
    "print(name + \" how are you ?\")"
   ]
  },
  {
   "cell_type": "code",
   "execution_count": 25,
   "id": "19bfb180",
   "metadata": {},
   "outputs": [
    {
     "ename": "TypeError",
     "evalue": "can only concatenate str (not \"int\") to str",
     "output_type": "error",
     "traceback": [
      "\u001b[1;31m---------------------------------------------------------------------------\u001b[0m",
      "\u001b[1;31mTypeError\u001b[0m                                 Traceback (most recent call last)",
      "\u001b[1;32m~\\AppData\\Local\\Temp\\ipykernel_13516\\2589108341.py\u001b[0m in \u001b[0;36m<module>\u001b[1;34m\u001b[0m\n\u001b[1;32m----> 1\u001b[1;33m \u001b[0mname\u001b[0m \u001b[1;33m+\u001b[0m \u001b[1;36m100\u001b[0m\u001b[1;33m\u001b[0m\u001b[1;33m\u001b[0m\u001b[0m\n\u001b[0m",
      "\u001b[1;31mTypeError\u001b[0m: can only concatenate str (not \"int\") to str"
     ]
    }
   ],
   "source": [
    "name + 100 "
   ]
  },
  {
   "cell_type": "code",
   "execution_count": 26,
   "id": "caf05832",
   "metadata": {},
   "outputs": [
    {
     "data": {
      "text/plain": [
       "'Eli 100'"
      ]
     },
     "execution_count": 26,
     "metadata": {},
     "output_type": "execute_result"
    }
   ],
   "source": [
    "name + str(100)"
   ]
  },
  {
   "cell_type": "code",
   "execution_count": 27,
   "id": "abe12ec2",
   "metadata": {},
   "outputs": [
    {
     "ename": "SyntaxError",
     "evalue": "invalid syntax (3022262867.py, line 1)",
     "output_type": "error",
     "traceback": [
      "\u001b[1;36m  File \u001b[1;32m\"C:\\Users\\E L Y\\AppData\\Local\\Temp\\ipykernel_13516\\3022262867.py\"\u001b[1;36m, line \u001b[1;32m1\u001b[0m\n\u001b[1;33m    type conversion\u001b[0m\n\u001b[1;37m         ^\u001b[0m\n\u001b[1;31mSyntaxError\u001b[0m\u001b[1;31m:\u001b[0m invalid syntax\n"
     ]
    }
   ],
   "source": [
    "# type conversion\n",
    "\n",
    "str()\n",
    "int()\n",
    "float() \n",
    "bool()\n",
    "\n",
    "use type to check the types \n"
   ]
  },
  {
   "cell_type": "code",
   "execution_count": 29,
   "id": "d6d64c00",
   "metadata": {},
   "outputs": [
    {
     "data": {
      "text/plain": [
       "\"this is Eli's food \""
      ]
     },
     "execution_count": 29,
     "metadata": {},
     "output_type": "execute_result"
    }
   ],
   "source": [
    "#Escape Sequence \n",
    "\n",
    "'this is Eli\\'s food '"
   ]
  },
  {
   "cell_type": "code",
   "execution_count": 33,
   "id": "7abcb35a",
   "metadata": {},
   "outputs": [
    {
     "name": "stdout",
     "output_type": "stream",
     "text": [
      "hi Elikplim you are welcome to area 55\n"
     ]
    }
   ],
   "source": [
    "name = \"Elikplim\"\n",
    "area = 55\n",
    "\n",
    "print(f\"hi {name} you are welcome to area {area}\")"
   ]
  },
  {
   "cell_type": "code",
   "execution_count": 35,
   "id": "f4bd3ca5",
   "metadata": {},
   "outputs": [
    {
     "data": {
      "text/plain": [
       "'i'"
      ]
     },
     "execution_count": 35,
     "metadata": {},
     "output_type": "execute_result"
    }
   ],
   "source": [
    "# string indexing \n",
    "name[0]\n",
    "name[2:3:1]\n",
    "\n",
    "# strings are immuatable they can not be changes \n",
    "\n",
    " # Table != tabel\n"
   ]
  },
  {
   "cell_type": "markdown",
   "id": "7555da02",
   "metadata": {},
   "source": [
    "\n",
    "# ### Age guessing Game "
   ]
  },
  {
   "cell_type": "code",
   "execution_count": 40,
   "id": "3de86541",
   "metadata": {},
   "outputs": [
    {
     "name": "stdout",
     "output_type": "stream",
     "text": [
      "What year were you born ?1990\n",
      "You were born in 1990 \n",
      "You are 33 old\n"
     ]
    }
   ],
   "source": [
    "birthyear = input (\"What year were you born ?\")\n",
    "print(f\"You were born in {birthyear} \")\n",
    "age = 2023-int(birthyear)\n",
    "age= str(age)\n",
    "print(f\"You are {age} old\")\n"
   ]
  },
  {
   "cell_type": "markdown",
   "id": "40e54ce3",
   "metadata": {},
   "source": [
    "#### List"
   ]
  },
  {
   "cell_type": "raw",
   "id": "6f5d2ea1",
   "metadata": {},
   "source": [
    "list are denoted with [ ]\n",
    "\n",
    "lists are collections of items \n",
    "\n",
    "Data structure is a way of organizing data and storing them  "
   ]
  },
  {
   "cell_type": "code",
   "execution_count": 45,
   "id": "0c651cfc",
   "metadata": {},
   "outputs": [
    {
     "data": {
      "text/plain": [
       "[2, 4, 6, 8]"
      ]
     },
     "execution_count": 45,
     "metadata": {},
     "output_type": "execute_result"
    }
   ],
   "source": [
    "#slicing\n",
    "numbers = [1,2,3,4,5,6,7,8,9]\n",
    "\n",
    "numbers[1:8:2]"
   ]
  },
  {
   "cell_type": "markdown",
   "id": "c48028c0",
   "metadata": {},
   "source": [
    "#### Dictionary \n"
   ]
  },
  {
   "cell_type": "code",
   "execution_count": 47,
   "id": "e473fd31",
   "metadata": {},
   "outputs": [],
   "source": [
    "dictionary ={\n",
    "    'a':1,\n",
    "    'b':2,\n",
    "    'c':3\n",
    "}"
   ]
  },
  {
   "cell_type": "code",
   "execution_count": 48,
   "id": "51170a43",
   "metadata": {},
   "outputs": [
    {
     "data": {
      "text/plain": [
       "1"
      ]
     },
     "execution_count": 48,
     "metadata": {},
     "output_type": "execute_result"
    }
   ],
   "source": [
    "dictionary['a']"
   ]
  },
  {
   "cell_type": "markdown",
   "id": "6bddafca",
   "metadata": {},
   "source": [
    "###### I have skipped some basics like set, tuple ,, dict and methods because I am familar with them "
   ]
  },
  {
   "cell_type": "code",
   "execution_count": null,
   "id": "d0329c87",
   "metadata": {},
   "outputs": [],
   "source": []
  }
 ],
 "metadata": {
  "kernelspec": {
   "display_name": "Python 3 (ipykernel)",
   "language": "python",
   "name": "python3"
  },
  "language_info": {
   "codemirror_mode": {
    "name": "ipython",
    "version": 3
   },
   "file_extension": ".py",
   "mimetype": "text/x-python",
   "name": "python",
   "nbconvert_exporter": "python",
   "pygments_lexer": "ipython3",
   "version": "3.9.13"
  }
 },
 "nbformat": 4,
 "nbformat_minor": 5
}
